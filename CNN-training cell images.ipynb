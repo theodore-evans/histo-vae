{
 "cells": [
  {
   "cell_type": "code",
   "execution_count": 47,
   "metadata": {},
   "outputs": [],
   "source": [
    "import tensorflow as tf\n",
    "import numpy as np\n",
    "import pandas as pd\n",
    "import os\n",
    "from sklearn.model_selection import train_test_split\n",
    "from sklearn.utils import shuffle\n",
    "\n",
    "\n",
    "from Models.Augment import Augment"
   ]
  },
  {
   "cell_type": "code",
   "execution_count": 48,
   "metadata": {},
   "outputs": [],
   "source": [
    "THIS_DIR = os.path.abspath('')\n",
    "DATASETS_DIR = \"Datasets/\"\n",
    "dataset_csv = \"cells_64x64_it_50.npz\"\n",
    "\n",
    "dataset_csv_filepath = os.path.join(THIS_DIR, DATASETS_DIR, dataset_csv)"
   ]
  },
  {
   "cell_type": "code",
   "execution_count": 62,
   "metadata": {},
   "outputs": [
    {
     "name": "stdout",
     "output_type": "stream",
     "text": [
      "Without augmentation:\n",
      "(2542,) (2542,) (1253,) (1253,)\n"
     ]
    },
    {
     "ename": "ValueError",
     "evalue": "operands could not be broadcast together with shapes (2542,) (2512,64,64,3) ",
     "output_type": "error",
     "traceback": [
      "\u001b[0;31m---------------------------------------------------------------------------\u001b[0m",
      "\u001b[0;31mValueError\u001b[0m                                Traceback (most recent call last)",
      "\u001b[0;32m<ipython-input-62-1c8967cd0d85>\u001b[0m in \u001b[0;36m<module>\u001b[0;34m\u001b[0m\n\u001b[1;32m     34\u001b[0m     \u001b[0;32mreturn\u001b[0m \u001b[0mX_train\u001b[0m\u001b[0;34m,\u001b[0m \u001b[0mX_test\u001b[0m\u001b[0;34m,\u001b[0m \u001b[0my_train\u001b[0m\u001b[0;34m,\u001b[0m \u001b[0my_test\u001b[0m\u001b[0;34m\u001b[0m\u001b[0;34m\u001b[0m\u001b[0m\n\u001b[1;32m     35\u001b[0m \u001b[0;34m\u001b[0m\u001b[0m\n\u001b[0;32m---> 36\u001b[0;31m \u001b[0mX_train\u001b[0m\u001b[0;34m,\u001b[0m \u001b[0mX_test\u001b[0m\u001b[0;34m,\u001b[0m \u001b[0my_train\u001b[0m\u001b[0;34m,\u001b[0m \u001b[0my_test\u001b[0m \u001b[0;34m=\u001b[0m \u001b[0mcreate_train_and_test_files\u001b[0m\u001b[0;34m(\u001b[0m\u001b[0mdataset_csv_filepath\u001b[0m\u001b[0;34m)\u001b[0m\u001b[0;34m\u001b[0m\u001b[0;34m\u001b[0m\u001b[0m\n\u001b[0m",
      "\u001b[0;32m<ipython-input-62-1c8967cd0d85>\u001b[0m in \u001b[0;36mcreate_train_and_test_files\u001b[0;34m(npz_filepath, test_size, augment, transformations)\u001b[0m\n\u001b[1;32m     25\u001b[0m                 \u001b[0maug_y_train\u001b[0m\u001b[0;34m.\u001b[0m\u001b[0mappend\u001b[0m\u001b[0;34m(\u001b[0m\u001b[0mtarget\u001b[0m\u001b[0;34m)\u001b[0m\u001b[0;34m\u001b[0m\u001b[0;34m\u001b[0m\u001b[0m\n\u001b[1;32m     26\u001b[0m \u001b[0;34m\u001b[0m\u001b[0m\n\u001b[0;32m---> 27\u001b[0;31m         \u001b[0mnew_X_train\u001b[0m \u001b[0;34m=\u001b[0m \u001b[0mX_train\u001b[0m \u001b[0;34m+\u001b[0m \u001b[0maug_X_train\u001b[0m\u001b[0;34m\u001b[0m\u001b[0;34m\u001b[0m\u001b[0m\n\u001b[0m\u001b[1;32m     28\u001b[0m         \u001b[0mnew_y_train\u001b[0m \u001b[0;34m=\u001b[0m \u001b[0my_train\u001b[0m \u001b[0;34m+\u001b[0m \u001b[0maug_y_train\u001b[0m\u001b[0;34m\u001b[0m\u001b[0;34m\u001b[0m\u001b[0m\n\u001b[1;32m     29\u001b[0m \u001b[0;34m\u001b[0m\u001b[0m\n",
      "\u001b[0;31mValueError\u001b[0m: operands could not be broadcast together with shapes (2542,) (2512,64,64,3) "
     ]
    }
   ],
   "source": [
    "def create_train_and_test_files(npz_filepath, test_size = 0.33, augment = True, transformations = ['rotate', 'flip']):\n",
    "    \n",
    "    data = np.load(npz_filepath, allow_pickle = True)\n",
    "    \n",
    "    features = data[\"features\"]\n",
    "    target = data[\"target\"]\n",
    "        \n",
    "    X_train, X_test, y_train, y_test = train_test_split(features, target, test_size = test_size, random_state=42)\n",
    "    \n",
    "    print(\"Without augmentation:\")\n",
    "    print(X_train.shape, y_train.shape, X_test.shape, y_test.shape)\n",
    "    \n",
    "    if augment:\n",
    "        aug_X_train = []\n",
    "        aug_y_train = []\n",
    "        aug = Augment()\n",
    "        \n",
    "        for i in range(0, len(X_train)):\n",
    "            image_to_transform = X_train[i][0]\n",
    "            target = y_train[i][0]\n",
    "            transformed_images = aug.TransformImage(image_to_transform, transformations)\n",
    "              \n",
    "            for transformed_image in transformed_images:\n",
    "                aug_X_train.append(transformed_image)\n",
    "                aug_y_train.append(target)\n",
    "        \n",
    "        new_X_train = X_train + aug_X_train\n",
    "        new_y_train = y_train + aug_y_train\n",
    "        \n",
    "        X_train, y_train = shuffle(new_X_train, new_y_train)\n",
    "        print(\"With augmentation:\")\n",
    "        print(X_train.shape, y_train.shape, X_test.shape, y_test.shape)\n",
    "        \n",
    "    return X_train, X_test, y_train, y_test\n",
    "\n",
    "X_train, X_test, y_train, y_test = create_train_and_test_files(dataset_csv_filepath)"
   ]
  },
  {
   "cell_type": "code",
   "execution_count": 52,
   "metadata": {},
   "outputs": [
    {
     "data": {
      "text/plain": [
       "(2542,)"
      ]
     },
     "execution_count": 52,
     "metadata": {},
     "output_type": "execute_result"
    }
   ],
   "source": [
    "X_train.shape"
   ]
  },
  {
   "cell_type": "code",
   "execution_count": 20,
   "metadata": {},
   "outputs": [],
   "source": [
    "def load_data(dataset_name):\n",
    "    this_dir = os.path.abspath('')\n",
    "    datasets_dir = os.path.join(this_dir, DATASETS_DIR)\n",
    "\n",
    "    return np.load(f\"{datasets_dir}{dataset_name}.npz\", allow_pickle=True)"
   ]
  },
  {
   "cell_type": "code",
   "execution_count": 21,
   "metadata": {},
   "outputs": [],
   "source": [
    "data = load_data(dataset_name)"
   ]
  },
  {
   "cell_type": "code",
   "execution_count": 23,
   "metadata": {},
   "outputs": [
    {
     "data": {
      "text/plain": [
       "array(['non_tumor', 'non_tumor', 'non_tumor', ..., 'tumor', 'non_tumor',\n",
       "       'tumor'], dtype=object)"
      ]
     },
     "execution_count": 23,
     "metadata": {},
     "output_type": "execute_result"
    }
   ],
   "source": [
    "data['y_train']"
   ]
  },
  {
   "cell_type": "code",
   "execution_count": 17,
   "metadata": {},
   "outputs": [],
   "source": [
    "def generate_tf_training_files(dataset_name, batch_size = 512, shuffle = True):\n",
    "\n",
    "    train_input_fn = tf.estimator.inputs.numpy_input_fn(\n",
    "        x={\"x\": train_test_data['X_train']},\n",
    "        y=train_test_data['y_train'],\n",
    "        num_epochs=None,\n",
    "        shuffle=True)\n",
    "        \n",
    "estimator = generate_tf_training_files(dataset_name)"
   ]
  },
  {
   "cell_type": "code",
   "execution_count": 18,
   "metadata": {},
   "outputs": [],
   "source": [
    "estimator"
   ]
  },
  {
   "cell_type": "code",
   "execution_count": null,
   "metadata": {},
   "outputs": [],
   "source": []
  }
 ],
 "metadata": {
  "kernelspec": {
   "display_name": "Python 3",
   "language": "python",
   "name": "python3"
  },
  "language_info": {
   "codemirror_mode": {
    "name": "ipython",
    "version": 3
   },
   "file_extension": ".py",
   "mimetype": "text/x-python",
   "name": "python",
   "nbconvert_exporter": "python",
   "pygments_lexer": "ipython3",
   "version": "3.7.6"
  }
 },
 "nbformat": 4,
 "nbformat_minor": 4
}
