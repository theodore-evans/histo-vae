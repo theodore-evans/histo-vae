{
 "cells": [
  {
   "cell_type": "code",
   "execution_count": 5,
   "metadata": {},
   "outputs": [],
   "source": [
    "import tensorflow as tf\n",
    "import numpy as np\n",
    "import os"
   ]
  },
  {
   "cell_type": "code",
   "execution_count": 7,
   "metadata": {},
   "outputs": [],
   "source": [
    "DATASETS_DIR = \"Datasets/\""
   ]
  },
  {
   "cell_type": "code",
   "execution_count": 12,
   "metadata": {},
   "outputs": [],
   "source": [
    "dataset_name = \"cells_64x64_it_50_augmented\""
   ]
  },
  {
   "cell_type": "code",
   "execution_count": null,
   "metadata": {},
   "outputs": [],
   "source": [
    "## TODO: have this take in a csv file and generate the test/train np.arrays\n",
    "def create_train_and_test_files(df_name, df):\n",
    "    \n",
    "    this_dir = os.path.abspath('')\n",
    "    target_dir = os.path.join(this_dir, DATASETS_DIR)\n",
    "    \n",
    "    if not os.path.exists(target_dir):\n",
    "        os.mkdir(target_dir)\n",
    "\n",
    "    if not all([item in df.columns for item in ['name','features', 'intensity', 'target']]):\n",
    "        print(\"The dataframe does not have the correct columns to export, columns must contain: name, features, intensity, target\")\n",
    "        return\n",
    "        \n",
    "    X_train, X_test, y_train, y_test = train_test_split(df.features, df.target, test_size = 0.33, random_state=42)\n",
    "    \n",
    "    filename = f\"{df_name}_train_test.npz\"\n",
    "    filepath = os.path.join(target_dir, filename)\n",
    "    \n",
    "    print(f\"Writing {filename} to {target_dir}\")\n",
    "    \n",
    "    np.savez_compressed(filepath, X_train = X_train, X_test = X_test, y_train = y_train, y_test = y_test)\n",
    "    \n",
    "    print(\"Done\")\n",
    "\n",
    "create_train_and_test_files(dataset_name, dataset)"
   ]
  },
  {
   "cell_type": "code",
   "execution_count": 20,
   "metadata": {},
   "outputs": [],
   "source": [
    "def load_data(dataset_name):\n",
    "    this_dir = os.path.abspath('')\n",
    "    datasets_dir = os.path.join(this_dir, DATASETS_DIR)\n",
    "\n",
    "    return np.load(f\"{datasets_dir}{dataset_name}.npz\", allow_pickle=True)"
   ]
  },
  {
   "cell_type": "code",
   "execution_count": 21,
   "metadata": {},
   "outputs": [],
   "source": [
    "data = load_data(dataset_name)"
   ]
  },
  {
   "cell_type": "code",
   "execution_count": 23,
   "metadata": {},
   "outputs": [
    {
     "data": {
      "text/plain": [
       "array(['non_tumor', 'non_tumor', 'non_tumor', ..., 'tumor', 'non_tumor',\n",
       "       'tumor'], dtype=object)"
      ]
     },
     "execution_count": 23,
     "metadata": {},
     "output_type": "execute_result"
    }
   ],
   "source": [
    "data['y_train']"
   ]
  },
  {
   "cell_type": "code",
   "execution_count": 17,
   "metadata": {},
   "outputs": [],
   "source": [
    "def generate_tf_training_files(dataset_name, batch_size = 512, shuffle = True):\n",
    "\n",
    "    train_input_fn = tf.estimator.inputs.numpy_input_fn(\n",
    "        x={\"x\": train_test_data['X_train']},\n",
    "        y=train_test_data['y_train'],\n",
    "        num_epochs=None,\n",
    "        shuffle=True)\n",
    "        \n",
    "estimator = generate_tf_training_files(dataset_name)"
   ]
  },
  {
   "cell_type": "code",
   "execution_count": 18,
   "metadata": {},
   "outputs": [],
   "source": [
    "estimator"
   ]
  },
  {
   "cell_type": "code",
   "execution_count": null,
   "metadata": {},
   "outputs": [],
   "source": []
  }
 ],
 "metadata": {
  "kernelspec": {
   "display_name": "Python 3",
   "language": "python",
   "name": "python3"
  },
  "language_info": {
   "codemirror_mode": {
    "name": "ipython",
    "version": 3
   },
   "file_extension": ".py",
   "mimetype": "text/x-python",
   "name": "python",
   "nbconvert_exporter": "python",
   "pygments_lexer": "ipython3",
   "version": "3.7.6"
  }
 },
 "nbformat": 4,
 "nbformat_minor": 4
}
